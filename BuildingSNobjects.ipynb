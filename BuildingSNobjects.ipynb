{
 "cells": [
  {
   "cell_type": "code",
   "execution_count": 1,
   "id": "a395c1b6-054d-4376-9a64-a624d09905f0",
   "metadata": {},
   "outputs": [],
   "source": [
    "from define_object import define_object\n",
    "from make_reference import make_reference\n",
    "from exposuresource import ExposureSource\n",
    "from get_images_for_sn import get_images_for_sn\n",
    "from list_db_images import db"
   ]
  },
  {
   "cell_type": "code",
   "execution_count": 2,
   "id": "15e36bed-4a5f-4bd7-948d-fa52283bb2f8",
   "metadata": {},
   "outputs": [],
   "source": [
    "from astropy.io import fits"
   ]
  },
  {
   "cell_type": "code",
   "execution_count": 3,
   "id": "2f90742e-fad0-4149-9228-0f7f4d27be38",
   "metadata": {},
   "outputs": [],
   "source": [
    "import pandas as pd\n",
    "import config\n",
    "import logging\n",
    "import db\n",
    "config.Config.init('/global/u2/a/alexisa/curveball/curveball_ztf.yaml')"
   ]
  },
  {
   "cell_type": "code",
   "execution_count": 4,
   "id": "b71a2744-42a6-4dfc-bbe0-c51c20bee4d3",
   "metadata": {},
   "outputs": [],
   "source": [
    "expsource = ExposureSource.get( 'ZTF' )"
   ]
  },
  {
   "cell_type": "code",
   "execution_count": 5,
   "id": "ec97883a-40fa-4553-8641-8ce2d5a733d4",
   "metadata": {},
   "outputs": [],
   "source": [
    "logger = logging.getLogger(\"main\")\n",
    "logger.setLevel( logging.DEBUG )"
   ]
  },
  {
   "cell_type": "code",
   "execution_count": 6,
   "id": "549a17cb-2386-48c3-a2e2-10083a66b5a7",
   "metadata": {},
   "outputs": [],
   "source": [
    "#import csv file with data\n",
    "dfSN = pd.read_csv('/global/u2/a/alexisa/SN-IIpdata_final.csv')\n",
    "\n",
    "SN_name = dfSN.Name\n",
    "SN_ra = dfSN.RA\n",
    "SN_dec = dfSN.Dec\n",
    "SN_green = dfSN.band_g\n",
    "SN_z=dfSN.z\n",
    "SN_red = dfSN.band_r\n",
    "SN_i = dfSN.band_i\n",
    "SN_t = dfSN.t_peak\n"
   ]
  },
  {
   "cell_type": "markdown",
   "id": "20a5ec8c-6630-4aba-9f9e-6b35e80d39f3",
   "metadata": {},
   "source": [
    "# 1. Define the object in database with define_object"
   ]
  },
  {
   "cell_type": "code",
   "execution_count": null,
   "id": "a86e374e-fca9-47b3-9874-8d0055ebbae5",
   "metadata": {},
   "outputs": [],
   "source": [
    "\n",
    "#singular object: parameters define_object( ZTFname, ra, dec, peak_t, z, classification=None, confidence=1.0, othernames=None, curdb=None )\n",
    "define_object('ZTF18aawczad', 194.569496657143, 27.7292541142857, 58269, z=None, classification=None, confidence=1.0, othernames=None, curdb=None )"
   ]
  },
  {
   "cell_type": "code",
   "execution_count": null,
   "id": "4f70018b-4e50-465f-bb1f-f84c90baccbe",
   "metadata": {
    "tags": []
   },
   "outputs": [],
   "source": [
    "#run through multiple objects\n",
    "for i in range(1,34):\n",
    "    define_object(SN_name[i], SN_ra[i], SN_dec[i], SN_t[i], z=None, classification=None, confidence=1.0, othernames=None, curdb=None )"
   ]
  },
  {
   "cell_type": "markdown",
   "id": "caf05dd0-04a9-4019-93ac-35f27dd28c73",
   "metadata": {},
   "source": [
    "# 2. Pull images of the supernova so that a reference can get built "
   ]
  },
  {
   "cell_type": "code",
   "execution_count": 8,
   "id": "1eac84d8-0240-40bb-9a40-8e185147af6e",
   "metadata": {
    "tags": []
   },
   "outputs": [],
   "source": [
    "#get_images_for_sn- the exposure source specifies the type of survey we want this function to pull the data from\n",
    "#Start off and endoff date are the days you want the lightcurve data to include, typically -30 to 90 is standard \n",
    "#However, for SN-IIp specifically, their plateu phase is much longer, so -30 to 270 is a good range to have\n",
    "#It just depends on the type of SN you have really!\n",
    "\n",
    "obj = 'ZTF19acchaza'\n",
    "\n",
    "get_images_for_sn(expsource, obj, ra=None, dec=None, peakt=None,\n",
    "                       startoff=-30, endoff=270, datadir=None, curdb=None, clobber=True,\n",
    "                       num_images=None, logger= logger)\n"
   ]
  },
  {
   "cell_type": "code",
   "execution_count": null,
   "id": "1ae5d85c-d1a1-4683-aed5-1710d0d8e667",
   "metadata": {},
   "outputs": [],
   "source": [
    "#This is to run through a group of objects\n",
    "for i in range(0,31):\n",
    "    get_images_for_sn(expsource, obj=SN_name[i], ra=None, dec=None, peakt=None,\n",
    "                       startoff=-30, endoff=90, datadir=None, curdb=None, clobber=True,\n",
    "                       num_images=None, logger= logger)"
   ]
  },
  {
   "cell_type": "code",
   "execution_count": 9,
   "id": "4300a62d-69c8-4102-b8b3-639bd951214d",
   "metadata": {},
   "outputs": [
    {
     "ename": "NameError",
     "evalue": "name 'red_ra' is not defined",
     "output_type": "error",
     "traceback": [
      "\u001b[0;31m---------------------------------------------------------------------------\u001b[0m",
      "\u001b[0;31mNameError\u001b[0m                                 Traceback (most recent call last)",
      "Cell \u001b[0;32mIn[9], line 2\u001b[0m\n\u001b[1;32m      1\u001b[0m \u001b[38;5;66;03m#if you want to check to see if images were pulled for a specific object \u001b[39;00m\n\u001b[0;32m----> 2\u001b[0m db\u001b[38;5;241m.\u001b[39mImage\u001b[38;5;241m.\u001b[39mget_including_point(\u001b[43mred_ra\u001b[49m[\u001b[38;5;241m30\u001b[39m], red_dec[\u001b[38;5;241m30\u001b[39m], band\u001b[38;5;241m=\u001b[39m red_band[\u001b[38;5;241m1\u001b[39m] )\n",
      "\u001b[0;31mNameError\u001b[0m: name 'red_ra' is not defined"
     ]
    }
   ],
   "source": [
    "#if you want to check to see if images were pulled for a specific object\n",
    "for i in range(20, 35):\n",
    "    print(i)\n",
    "    y = db.Image.get_including_point( SN_ra[i], SN_dec[i], band=SN_red[i], expsourceid=expsource.id )\n",
    "    print(y)"
   ]
  },
  {
   "cell_type": "markdown",
   "id": "653438c2-c1de-41b8-a4af-416065f04d3d",
   "metadata": {},
   "source": [
    "# 3. Build the reference for that SN\n",
    "The band parameter refers to whether you build the reference for the i, red, or green. When you are running this, that will be the only parameter you change once you build all the references in a specific band. So whatever you name those columns in the dataframe, is what you put there. For me that was: SN_red, SN_green, SN_i. \n",
    "\n",
    "Then when I run into a reference that won't build, I alter the range I run, so that it skips the bad one. Let's say number 4 the reference could not build, then I would run for i in range(0,4), and then run: for i in range(5,to however many SN there are)\n",
    "\n",
    "obj = SN_name[i] is whatever you named your dataframe of the SN names. \n",
    "\n",
    "Now there was one case, where I had to build a lightcurve that skipped a few days, since there was another SN that occured during this time. You input the gap of days you want the lightcurve model to skip in the secure_references_kwargs={}. "
   ]
  },
  {
   "cell_type": "code",
   "execution_count": null,
   "id": "9d3dc09f-8b4c-448b-8e16-d21853991da1",
   "metadata": {},
   "outputs": [],
   "source": [
    "#for running through a group of objects, can be changed to just run for one\n",
    "errorSN = []\n",
    "for i in range(68,71):\n",
    "    print(i)\n",
    "    print(SN_name[i])\n",
    "    try:\n",
    "    make_reference(expsource, band = SN_i[i], imagelis=None, imagefilename=None,\n",
    "                    secure_references_kwargs={},\n",
    "                    stackname=None, obj= SN_name[i], ra=None, dec=None, peakt=None,\n",
    "                    datadir=None, outdir=None, workdir=None, searchlocal=False, bgsub=True,\n",
    "                    curdb=None, logger=logger)\n",
    "     except Exception as err:\n",
    "                print('ERROR! REFERENCE CANT BE BUILT: %s' % SN_name[i])\n",
    "                errorSN.append(SN_name[i])"
   ]
  },
  {
   "cell_type": "code",
   "execution_count": null,
   "id": "cf0302f2-2e6d-422d-83ed-8062f70bdfe6",
   "metadata": {
    "tags": []
   },
   "outputs": [],
   "source": [
    "#for skipping a gap of days\n",
    "secure = { \"days_before\": 472, \"days_after\": 500 } \n",
    "make_reference(expsource, band = SN_i[0], imagelis=None, imagefilename=None,\n",
    "                    secure_references_kwargs=secure,\n",
    "                    stackname=None, obj= SN_name[0], ra=None, dec=None, peakt=None,\n",
    "                    datadir=None, outdir=None, workdir=None, searchlocal=False, bgsub=True, \n",
    "                    curdb=None, logger=logger)"
   ]
  },
  {
   "cell_type": "code",
   "execution_count": null,
   "id": "b19ad5d8-fe15-4f6a-b27b-d1493d1720e4",
   "metadata": {
    "collapsed": true,
    "jupyter": {
     "outputs_hidden": true
    },
    "tags": []
   },
   "outputs": [
    {
     "name": "stderr",
     "output_type": "stream",
     "text": [
      "\n",
      "> WARNING: default.sex not found, using internal defaults\n",
      "\n",
      "\n",
      "> WARNING: default.psfex not found, using internal defaults\n",
      "\n",
      "/home/curveball/bin/bijaouisky.py:46: RuntimeWarning: divide by zero encountered in log\n",
      "  val = -( nI * np.log( pI ) ).sum()\n",
      "/home/curveball/bin/bijaouisky.py:46: RuntimeWarning: invalid value encountered in multiply\n",
      "  val = -( nI * np.log( pI ) ).sum()\n",
      "/home/curveball/bin/bijaouisky.py:40: RuntimeWarning: overflow encountered in exp\n",
      "  pI = 1/a * np.exp(σ**2 / (2*a**2) ) * np.exp(-(I-s)/a) * 0.5 * erfc( ( σ/a - (I-s)/σ ) / sqrt2 )\n",
      "/home/curveball/bin/bijaouisky.py:40: RuntimeWarning: invalid value encountered in multiply\n",
      "  pI = 1/a * np.exp(σ**2 / (2*a**2) ) * np.exp(-(I-s)/a) * 0.5 * erfc( ( σ/a - (I-s)/σ ) / sqrt2 )\n",
      "/home/curveball/bin/bijaouisky.py:41: RuntimeWarning: invalid value encountered in true_divide\n",
      "  pI /= pI.sum()\n",
      "/home/curveball/bin/bijaouisky.py:40: RuntimeWarning: overflow encountered in multiply\n",
      "  pI = 1/a * np.exp(σ**2 / (2*a**2) ) * np.exp(-(I-s)/a) * 0.5 * erfc( ( σ/a - (I-s)/σ ) / sqrt2 )\n",
      "\n",
      "> WARNING: default.missfits not found, using internal defaults\n",
      "\n"
     ]
    },
    {
     "name": "stdout",
     "output_type": "stream",
     "text": [
      "\u001b[1M> \n",
      "\u001b[1A----- MissFITS 2.8.0 started on 2023-03-22 at 12:02:01 with 1 thread\n",
      "\n",
      "\u001b[1M> Examining input data...\n",
      "\u001b[1A\u001b[1M> Looking for /data/curveball/ZTF/2022-09-05/ztf_20220905472303_000740_zr_io.083.head\n",
      "\u001b[1A\u001b[1M> Reading input data...\n",
      "\u001b[1A\u001b[1M> \n",
      "\u001b[1Aztf_20220905472303_000740_zr_io.083.fits      xxx\n",
      "\u001b[1M> \n",
      "\u001b[1A> All done (in 0.0 s)\n"
     ]
    },
    {
     "name": "stderr",
     "output_type": "stream",
     "text": [
      "\n",
      "> WARNING: default.sex not found, using internal defaults\n",
      "\n",
      "\n",
      "> WARNING: default.psfex not found, using internal defaults\n",
      "\n",
      "/home/curveball/bin/bijaouisky.py:46: RuntimeWarning: divide by zero encountered in log\n",
      "  val = -( nI * np.log( pI ) ).sum()\n",
      "/home/curveball/bin/bijaouisky.py:46: RuntimeWarning: invalid value encountered in multiply\n",
      "  val = -( nI * np.log( pI ) ).sum()\n",
      "/home/curveball/bin/bijaouisky.py:40: RuntimeWarning: overflow encountered in exp\n",
      "  pI = 1/a * np.exp(σ**2 / (2*a**2) ) * np.exp(-(I-s)/a) * 0.5 * erfc( ( σ/a - (I-s)/σ ) / sqrt2 )\n",
      "/home/curveball/bin/bijaouisky.py:40: RuntimeWarning: invalid value encountered in multiply\n",
      "  pI = 1/a * np.exp(σ**2 / (2*a**2) ) * np.exp(-(I-s)/a) * 0.5 * erfc( ( σ/a - (I-s)/σ ) / sqrt2 )\n",
      "/home/curveball/bin/bijaouisky.py:41: RuntimeWarning: invalid value encountered in true_divide\n",
      "  pI /= pI.sum()\n",
      "/home/curveball/bin/bijaouisky.py:40: RuntimeWarning: overflow encountered in multiply\n",
      "  pI = 1/a * np.exp(σ**2 / (2*a**2) ) * np.exp(-(I-s)/a) * 0.5 * erfc( ( σ/a - (I-s)/σ ) / sqrt2 )\n",
      "/usr/local/lib/python3.9/dist-packages/scipy/optimize/_numdiff.py:576: RuntimeWarning: invalid value encountered in subtract\n",
      "  df = fun(x) - f0\n",
      "\n",
      "> WARNING: default.missfits not found, using internal defaults\n",
      "\n"
     ]
    },
    {
     "name": "stdout",
     "output_type": "stream",
     "text": [
      "\u001b[1M> \n",
      "\u001b[1A----- MissFITS 2.8.0 started on 2023-03-22 at 12:04:22 with 1 thread\n",
      "\n",
      "\u001b[1M> Examining input data...\n",
      "\u001b[1A\u001b[1M> Looking for /data/curveball/ZTF/2022-09-24/ztf_20220924455660_000740_zr_io.083.head\n",
      "\u001b[1A\u001b[1M> Reading input data...\n",
      "\u001b[1A\u001b[1M> \n",
      "\u001b[1Aztf_20220924455660_000740_zr_io.083.fits      xxx\n",
      "\u001b[1M> \n",
      "\u001b[1A> All done (in 0.0 s)\n"
     ]
    },
    {
     "name": "stderr",
     "output_type": "stream",
     "text": [
      "\n",
      "> WARNING: default.sex not found, using internal defaults\n",
      "\n",
      "\n",
      "> WARNING: default.psfex not found, using internal defaults\n",
      "\n",
      "/home/curveball/bin/bijaouisky.py:46: RuntimeWarning: divide by zero encountered in log\n",
      "  val = -( nI * np.log( pI ) ).sum()\n",
      "/home/curveball/bin/bijaouisky.py:46: RuntimeWarning: invalid value encountered in multiply\n",
      "  val = -( nI * np.log( pI ) ).sum()\n",
      "/home/curveball/bin/bijaouisky.py:41: RuntimeWarning: invalid value encountered in true_divide\n",
      "  pI /= pI.sum()\n",
      "/home/curveball/bin/bijaouisky.py:40: RuntimeWarning: overflow encountered in multiply\n",
      "  pI = 1/a * np.exp(σ**2 / (2*a**2) ) * np.exp(-(I-s)/a) * 0.5 * erfc( ( σ/a - (I-s)/σ ) / sqrt2 )\n",
      "/home/curveball/bin/bijaouisky.py:40: RuntimeWarning: invalid value encountered in multiply\n",
      "  pI = 1/a * np.exp(σ**2 / (2*a**2) ) * np.exp(-(I-s)/a) * 0.5 * erfc( ( σ/a - (I-s)/σ ) / sqrt2 )\n",
      "/home/curveball/bin/bijaouisky.py:40: RuntimeWarning: overflow encountered in exp\n",
      "  pI = 1/a * np.exp(σ**2 / (2*a**2) ) * np.exp(-(I-s)/a) * 0.5 * erfc( ( σ/a - (I-s)/σ ) / sqrt2 )\n",
      "\n",
      "> WARNING: default.missfits not found, using internal defaults\n",
      "\n"
     ]
    },
    {
     "name": "stdout",
     "output_type": "stream",
     "text": [
      "\u001b[1M> \n",
      "\u001b[1A----- MissFITS 2.8.0 started on 2023-03-22 at 12:06:52 with 1 thread\n",
      "\n",
      "\u001b[1M> Examining input data...\n",
      "\u001b[1A\u001b[1M> Looking for /data/curveball/ZTF/2022-10-04/ztf_20221004407882_000740_zr_io.083.head\n",
      "\u001b[1A\u001b[1M> Reading input data...\n",
      "\u001b[1A\u001b[1M> \n",
      "\u001b[1Aztf_20221004407882_000740_zr_io.083.fits      xxx\n",
      "\u001b[1M> \n",
      "\u001b[1A> All done (in 0.0 s)\n"
     ]
    },
    {
     "name": "stderr",
     "output_type": "stream",
     "text": [
      "\n",
      "> WARNING: default.sex not found, using internal defaults\n",
      "\n",
      "\n",
      "> WARNING: default.psfex not found, using internal defaults\n",
      "\n",
      "/home/curveball/bin/bijaouisky.py:46: RuntimeWarning: divide by zero encountered in log\n",
      "  val = -( nI * np.log( pI ) ).sum()\n",
      "/home/curveball/bin/bijaouisky.py:46: RuntimeWarning: invalid value encountered in multiply\n",
      "  val = -( nI * np.log( pI ) ).sum()\n",
      "/home/curveball/bin/bijaouisky.py:41: RuntimeWarning: invalid value encountered in true_divide\n",
      "  pI /= pI.sum()\n",
      "/home/curveball/bin/bijaouisky.py:40: RuntimeWarning: overflow encountered in multiply\n",
      "  pI = 1/a * np.exp(σ**2 / (2*a**2) ) * np.exp(-(I-s)/a) * 0.5 * erfc( ( σ/a - (I-s)/σ ) / sqrt2 )\n",
      "/home/curveball/bin/bijaouisky.py:40: RuntimeWarning: invalid value encountered in multiply\n",
      "  pI = 1/a * np.exp(σ**2 / (2*a**2) ) * np.exp(-(I-s)/a) * 0.5 * erfc( ( σ/a - (I-s)/σ ) / sqrt2 )\n",
      "/home/curveball/bin/bijaouisky.py:40: RuntimeWarning: overflow encountered in exp\n",
      "  pI = 1/a * np.exp(σ**2 / (2*a**2) ) * np.exp(-(I-s)/a) * 0.5 * erfc( ( σ/a - (I-s)/σ ) / sqrt2 )\n",
      "\n",
      "> WARNING: default.missfits not found, using internal defaults\n",
      "\n"
     ]
    },
    {
     "name": "stdout",
     "output_type": "stream",
     "text": [
      "\u001b[1M> \n",
      "\u001b[1A----- MissFITS 2.8.0 started on 2023-03-22 at 12:09:11 with 1 thread\n",
      "\n",
      "\u001b[1M> Examining input data...\n",
      "\u001b[1A\u001b[1M> Looking for /data/curveball/ZTF/2022-10-06/ztf_20221006371250_000740_zr_io.083.head\n",
      "\u001b[1A\u001b[1M> Reading input data...\n",
      "\u001b[1A\u001b[1M> \n",
      "\u001b[1Aztf_20221006371250_000740_zr_io.083.fits      xxx\n",
      "\u001b[1M> \n",
      "\u001b[1A> All done (in 0.0 s)\n"
     ]
    },
    {
     "name": "stderr",
     "output_type": "stream",
     "text": [
      "\n",
      "> WARNING: default.sex not found, using internal defaults\n",
      "\n",
      "\n",
      "> WARNING: default.psfex not found, using internal defaults\n",
      "\n",
      "/home/curveball/bin/bijaouisky.py:46: RuntimeWarning: divide by zero encountered in log\n",
      "  val = -( nI * np.log( pI ) ).sum()\n",
      "/home/curveball/bin/bijaouisky.py:46: RuntimeWarning: invalid value encountered in multiply\n",
      "  val = -( nI * np.log( pI ) ).sum()\n",
      "/home/curveball/bin/bijaouisky.py:40: RuntimeWarning: overflow encountered in exp\n",
      "  pI = 1/a * np.exp(σ**2 / (2*a**2) ) * np.exp(-(I-s)/a) * 0.5 * erfc( ( σ/a - (I-s)/σ ) / sqrt2 )\n",
      "/home/curveball/bin/bijaouisky.py:40: RuntimeWarning: invalid value encountered in multiply\n",
      "  pI = 1/a * np.exp(σ**2 / (2*a**2) ) * np.exp(-(I-s)/a) * 0.5 * erfc( ( σ/a - (I-s)/σ ) / sqrt2 )\n",
      "/home/curveball/bin/bijaouisky.py:40: RuntimeWarning: overflow encountered in multiply\n",
      "  pI = 1/a * np.exp(σ**2 / (2*a**2) ) * np.exp(-(I-s)/a) * 0.5 * erfc( ( σ/a - (I-s)/σ ) / sqrt2 )\n",
      "/home/curveball/bin/bijaouisky.py:41: RuntimeWarning: invalid value encountered in true_divide\n",
      "  pI /= pI.sum()\n",
      "\n",
      "> WARNING: default.missfits not found, using internal defaults\n",
      "\n"
     ]
    },
    {
     "name": "stdout",
     "output_type": "stream",
     "text": [
      "\u001b[1M> \n",
      "\u001b[1A----- MissFITS 2.8.0 started on 2023-03-22 at 12:11:23 with 1 thread\n",
      "\n",
      "\u001b[1M> Examining input data...\n",
      "\u001b[1A\u001b[1M> Looking for /data/curveball/ZTF/2022-10-08/ztf_20221008428553_000740_zr_io.083.head\n",
      "\u001b[1A\u001b[1M> Reading input data...\n",
      "\u001b[1A\u001b[1M> \n",
      "\u001b[1Aztf_20221008428553_000740_zr_io.083.fits      xxx\n",
      "\u001b[1M> \n",
      "\u001b[1A> All done (in 0.0 s)\n"
     ]
    },
    {
     "name": "stderr",
     "output_type": "stream",
     "text": [
      "\n",
      "> WARNING: default.sex not found, using internal defaults\n",
      "\n",
      "\n",
      "> WARNING: default.psfex not found, using internal defaults\n",
      "\n"
     ]
    }
   ],
   "source": [
    "#for running on a single SN \n",
    "obj = 'ZTF19acchaza'\n",
    "make_reference(expsource, band = 'ZTF_r', imagelis=None, imagefilename=None,\n",
    "                    secure_references_kwargs={},\n",
    "                    stackname=None, obj= obj, ra=None, dec=None, peakt=None,\n",
    "                    datadir=None, outdir=None, workdir=None, searchlocal=False, bgsub=True, \n",
    "                    curdb=None, logger=logger)"
   ]
  },
  {
   "cell_type": "markdown",
   "id": "041fe4f3-888e-429e-9387-5c77fa48f28f",
   "metadata": {},
   "source": [
    "# Some errors you might get: \n",
    "\n",
    "empty of corrupt FITS file \n",
    "list index out of range --can't do much about this\n",
    "\n",
    "No images found for filter zi, No references found for filter zi --object either does not have a reference image, or it just can't build, so dont worry about it \n",
    "\n",
    "RuntimeError: Stack stack_ztf_20201205497674_000672_zi_io.154 is already in the database with different members!  --Made a stack from the different images but in the same file so it will bring up this error, try to delete the stack that already exists through terminal \n",
    "\n",
    "(ValueError: Filter ZTF g (from header of /data/curveball/ZTF/2018-03-25/ztf_20180325298773_000789_zg_io.062.fits) is unknown. --this means the header has ZTF g instead of ZTF_g, so try to change it yourself in the file\n",
    "\n",
    "Exception: psfex failed for ztf_20200427402512_000677_zg_io.142.cat --means there is something fishy about the image, inspect fits file\n",
    "\n",
    "Overall the two errors that are within your control to fix is the error about stacking and the error about filter ZTF g. As I go through the objects, I mark which ones gave me errors, and I rerun them a week or two later. Typically, some of the references do work when I try again, which means it could be something due to Cori or Perlmutter being finnicky during the first time you're using it. "
   ]
  },
  {
   "cell_type": "markdown",
   "id": "099c97f5-bcea-4cc1-9b76-ffbffd134eb4",
   "metadata": {},
   "source": [
    "# 4. After the references are built, you need to create the jobs that build the lightcurves for each SN on the curveball database. Each object will have three jobs you will have to run on NERSC (since you have three filters, g, r, and i). I have created a separate .ipynb for how to do this"
   ]
  },
  {
   "cell_type": "code",
   "execution_count": 7,
   "id": "1445a60f-3f44-442a-9ffe-1a661f52613a",
   "metadata": {},
   "outputs": [
    {
     "name": "stdout",
     "output_type": "stream",
     "text": [
      "0\n",
      "ZTF18abgqvwv\n",
      "1\n",
      "ZTF18adbacau\n",
      "2\n",
      "ZTF19aafndot\n",
      "3\n",
      "ZTF19aamggnw\n",
      "4\n",
      "ZTF19aapygmq\n",
      "5\n",
      "ZTF19aarjswp\n",
      "6\n",
      "ZTF19aauqwna\n"
     ]
    },
    {
     "name": "stderr",
     "output_type": "stream",
     "text": [
      "\n",
      "> WARNING: default.sex not found, using internal defaults\n",
      "\n",
      "\n",
      "> WARNING: default.psfex not found, using internal defaults\n",
      "\n",
      "psfex failed with fwhmmax=10.0, bumping it (or quitting)\n",
      "Traceback (most recent call last):\n",
      "  File \"/curveball/bin/processing.py\", line 385, in cat_psf_sky\n",
      "    res = subprocess.run( com.split(), shell=False, timeout=psftimeout )\n",
      "  File \"/usr/lib/python3.9/subprocess.py\", line 507, in run\n",
      "    stdout, stderr = process.communicate(input, timeout=timeout)\n",
      "  File \"/usr/lib/python3.9/subprocess.py\", line 1134, in communicate\n",
      "    stdout, stderr = self._communicate(input, endtime, timeout)\n",
      "  File \"/usr/lib/python3.9/subprocess.py\", line 2007, in _communicate\n",
      "    self.wait(timeout=self._remaining_time(endtime))\n",
      "  File \"/usr/lib/python3.9/subprocess.py\", line 1189, in wait\n",
      "    return self._wait(timeout=timeout)\n",
      "  File \"/usr/lib/python3.9/subprocess.py\", line 1911, in _wait\n",
      "    raise TimeoutExpired(self.args, timeout)\n",
      "subprocess.TimeoutExpired: Command '['psfex', '/data/curveball/ZTF/2018-06-05/ztf_20180605430544_001766_zg_io.104.cat', '-CHECKPLOT_DEV', 'NULL', '-CHECKPLOT_TYPE', 'NONE', '-CHECKIMAGE_TYPE', 'NONE', '-XML_NAME', '/data/curveball/ZTF/2018-06-05/ztf_20180605430544_001766_zg_io.104.psf.xml', '-WRITE_XML', 'Y', '-PHOTFLUX_KEY', 'FLUX_APER(2)', '-VERBOSE_TYPE', 'QUIET', '-PSF_SAMPLING', '0.25', '-PSF_SIZE', '101', '-SAMPLE_FWHMRANGE', '0.5,10.0']' timed out after 299.99994922598125 seconds\n",
      "\n",
      "> WARNING: default.psfex not found, using internal defaults\n",
      "\n",
      "psfex failed with fwhmmax=15.0, bumping it (or quitting)\n",
      "Traceback (most recent call last):\n",
      "  File \"/curveball/bin/processing.py\", line 385, in cat_psf_sky\n",
      "    res = subprocess.run( com.split(), shell=False, timeout=psftimeout )\n",
      "  File \"/usr/lib/python3.9/subprocess.py\", line 507, in run\n",
      "    stdout, stderr = process.communicate(input, timeout=timeout)\n",
      "  File \"/usr/lib/python3.9/subprocess.py\", line 1134, in communicate\n",
      "    stdout, stderr = self._communicate(input, endtime, timeout)\n",
      "  File \"/usr/lib/python3.9/subprocess.py\", line 2007, in _communicate\n",
      "    self.wait(timeout=self._remaining_time(endtime))\n",
      "  File \"/usr/lib/python3.9/subprocess.py\", line 1189, in wait\n",
      "    return self._wait(timeout=timeout)\n",
      "  File \"/usr/lib/python3.9/subprocess.py\", line 1911, in _wait\n",
      "    raise TimeoutExpired(self.args, timeout)\n",
      "subprocess.TimeoutExpired: Command '['psfex', '/data/curveball/ZTF/2018-06-05/ztf_20180605430544_001766_zg_io.104.cat', '-CHECKPLOT_DEV', 'NULL', '-CHECKPLOT_TYPE', 'NONE', '-CHECKIMAGE_TYPE', 'NONE', '-XML_NAME', '/data/curveball/ZTF/2018-06-05/ztf_20180605430544_001766_zg_io.104.psf.xml', '-WRITE_XML', 'Y', '-PHOTFLUX_KEY', 'FLUX_APER(2)', '-VERBOSE_TYPE', 'QUIET', '-PSF_SAMPLING', '0.25', '-PSF_SIZE', '101', '-SAMPLE_FWHMRANGE', '0.5,15.0']' timed out after 299.99995869299164 seconds\n",
      "\n",
      "> WARNING: default.psfex not found, using internal defaults\n",
      "\n",
      "psfex failed with fwhmmax=20.0, bumping it (or quitting)\n",
      "Traceback (most recent call last):\n",
      "  File \"/curveball/bin/processing.py\", line 385, in cat_psf_sky\n",
      "    res = subprocess.run( com.split(), shell=False, timeout=psftimeout )\n",
      "  File \"/usr/lib/python3.9/subprocess.py\", line 507, in run\n",
      "    stdout, stderr = process.communicate(input, timeout=timeout)\n",
      "  File \"/usr/lib/python3.9/subprocess.py\", line 1134, in communicate\n",
      "    stdout, stderr = self._communicate(input, endtime, timeout)\n",
      "  File \"/usr/lib/python3.9/subprocess.py\", line 2007, in _communicate\n",
      "    self.wait(timeout=self._remaining_time(endtime))\n",
      "  File \"/usr/lib/python3.9/subprocess.py\", line 1189, in wait\n",
      "    return self._wait(timeout=timeout)\n",
      "  File \"/usr/lib/python3.9/subprocess.py\", line 1911, in _wait\n",
      "    raise TimeoutExpired(self.args, timeout)\n",
      "subprocess.TimeoutExpired: Command '['psfex', '/data/curveball/ZTF/2018-06-05/ztf_20180605430544_001766_zg_io.104.cat', '-CHECKPLOT_DEV', 'NULL', '-CHECKPLOT_TYPE', 'NONE', '-CHECKIMAGE_TYPE', 'NONE', '-XML_NAME', '/data/curveball/ZTF/2018-06-05/ztf_20180605430544_001766_zg_io.104.psf.xml', '-WRITE_XML', 'Y', '-PHOTFLUX_KEY', 'FLUX_APER(2)', '-VERBOSE_TYPE', 'QUIET', '-PSF_SAMPLING', '0.25', '-PSF_SIZE', '101', '-SAMPLE_FWHMRANGE', '0.5,20.0']' timed out after 299.999963240989 seconds\n",
      "\n",
      "> WARNING: default.psfex not found, using internal defaults\n",
      "\n",
      "psfex failed with fwhmmax=25.0, bumping it (or quitting)\n",
      "Traceback (most recent call last):\n",
      "  File \"/curveball/bin/processing.py\", line 385, in cat_psf_sky\n",
      "    res = subprocess.run( com.split(), shell=False, timeout=psftimeout )\n",
      "  File \"/usr/lib/python3.9/subprocess.py\", line 507, in run\n",
      "    stdout, stderr = process.communicate(input, timeout=timeout)\n",
      "  File \"/usr/lib/python3.9/subprocess.py\", line 1134, in communicate\n",
      "    stdout, stderr = self._communicate(input, endtime, timeout)\n",
      "  File \"/usr/lib/python3.9/subprocess.py\", line 2007, in _communicate\n",
      "    self.wait(timeout=self._remaining_time(endtime))\n",
      "  File \"/usr/lib/python3.9/subprocess.py\", line 1189, in wait\n",
      "    return self._wait(timeout=timeout)\n",
      "  File \"/usr/lib/python3.9/subprocess.py\", line 1911, in _wait\n",
      "    raise TimeoutExpired(self.args, timeout)\n",
      "subprocess.TimeoutExpired: Command '['psfex', '/data/curveball/ZTF/2018-06-05/ztf_20180605430544_001766_zg_io.104.cat', '-CHECKPLOT_DEV', 'NULL', '-CHECKPLOT_TYPE', 'NONE', '-CHECKIMAGE_TYPE', 'NONE', '-XML_NAME', '/data/curveball/ZTF/2018-06-05/ztf_20180605430544_001766_zg_io.104.psf.xml', '-WRITE_XML', 'Y', '-PHOTFLUX_KEY', 'FLUX_APER(2)', '-VERBOSE_TYPE', 'QUIET', '-PSF_SAMPLING', '0.25', '-PSF_SIZE', '101', '-SAMPLE_FWHMRANGE', '0.5,25.0']' timed out after 299.99994989595143 seconds\n"
     ]
    },
    {
     "name": "stdout",
     "output_type": "stream",
     "text": [
      "ERROR! REFERENCE CANT BE BUILT: ZTF19aauqwna\n",
      "7\n",
      "ZTF19aavbkly\n",
      "8\n",
      "ZTF19aawgxdn\n",
      "9\n",
      "ZTF19aaxqwjx\n",
      "10\n",
      "ZTF19abajxet\n",
      "11\n",
      "ZTF19abqgtqo\n",
      "12\n",
      "ZTF19abueupg\n",
      "13\n",
      "ZTF19abuzinv\n",
      "14\n",
      "ZTF19acytcsg\n",
      "15\n",
      "ZTF20acfkzcg\n",
      "16\n",
      "ZTF21aaabwem\n"
     ]
    },
    {
     "name": "stderr",
     "output_type": "stream",
     "text": [
      "No images found for filter zg\n",
      "No references found for filter zg\n"
     ]
    },
    {
     "name": "stdout",
     "output_type": "stream",
     "text": [
      "ERROR! REFERENCE CANT BE BUILT: ZTF21aaabwem\n",
      "17\n",
      "ZTF22aadpuwe\n",
      "18\n",
      "ZTF18abcpmwh\n",
      "19\n",
      "ZTF18abcptmt\n",
      "20\n",
      "ZTF18abfzixe\n",
      "21\n",
      "ZTF18abwlsoi\n",
      "22\n",
      "ZTF20acrinvz\n",
      "23\n",
      "ZTF18aarpttw\n",
      "24\n",
      "ZTF18aaszvfn\n",
      "25\n",
      "ZTF18aatlfus\n",
      "26\n",
      "ZTF18aatyqds\n",
      "27\n",
      "ZTF18aaxkqgy\n",
      "28\n",
      "ZTF18abbpyvk\n",
      "29\n",
      "ZTF18abckutn\n",
      "30\n",
      "ZTF18abdbysy\n",
      "31\n",
      "ZTF18abdfwcy\n",
      "32\n",
      "ZTF18abdjmfh\n",
      "33\n",
      "ZTF18abdrbqp\n",
      "34\n",
      "ZTF18abgladq\n",
      "35\n",
      "ZTF18abrlljc\n",
      "36\n",
      "ZTF18achtnvk\n",
      "37\n",
      "ZTF18acyybvg\n",
      "38\n",
      "ZTF19aallimd\n"
     ]
    },
    {
     "name": "stderr",
     "output_type": "stream",
     "text": [
      "No images found for filter zg\n",
      "No references found for filter zg\n"
     ]
    },
    {
     "name": "stdout",
     "output_type": "stream",
     "text": [
      "ERROR! REFERENCE CANT BE BUILT: ZTF19aallimd\n",
      "39\n",
      "ZTF19acchaza\n",
      "40\n",
      "ZTF19aarykkb\n"
     ]
    },
    {
     "name": "stderr",
     "output_type": "stream",
     "text": [
      "No images found for filter zg\n",
      "No references found for filter zg\n"
     ]
    },
    {
     "name": "stdout",
     "output_type": "stream",
     "text": [
      "ERROR! REFERENCE CANT BE BUILT: ZTF19aarykkb\n",
      "41\n",
      "ZTF19aavkptg\n",
      "42\n",
      "ZTF19aazuqyt\n",
      "43\n",
      "ZTF19abgiwkt\n",
      "44\n",
      "ZTF19abiahko\n"
     ]
    },
    {
     "name": "stderr",
     "output_type": "stream",
     "text": [
      "\n",
      "> WARNING: default.sex not found, using internal defaults\n",
      "\n",
      "\n",
      "> WARNING: default.psfex not found, using internal defaults\n",
      "\n",
      "psfex failed with fwhmmax=10.0, bumping it (or quitting)\n",
      "Traceback (most recent call last):\n",
      "  File \"/curveball/bin/processing.py\", line 385, in cat_psf_sky\n",
      "    res = subprocess.run( com.split(), shell=False, timeout=psftimeout )\n",
      "  File \"/usr/lib/python3.9/subprocess.py\", line 507, in run\n",
      "    stdout, stderr = process.communicate(input, timeout=timeout)\n",
      "  File \"/usr/lib/python3.9/subprocess.py\", line 1134, in communicate\n",
      "    stdout, stderr = self._communicate(input, endtime, timeout)\n",
      "  File \"/usr/lib/python3.9/subprocess.py\", line 2007, in _communicate\n",
      "    self.wait(timeout=self._remaining_time(endtime))\n",
      "  File \"/usr/lib/python3.9/subprocess.py\", line 1189, in wait\n",
      "    return self._wait(timeout=timeout)\n",
      "  File \"/usr/lib/python3.9/subprocess.py\", line 1911, in _wait\n",
      "    raise TimeoutExpired(self.args, timeout)\n",
      "subprocess.TimeoutExpired: Command '['psfex', '/data/curveball/ZTF/2021-07-15/ztf_20210715339282_000386_zg_io.031.cat', '-CHECKPLOT_DEV', 'NULL', '-CHECKPLOT_TYPE', 'NONE', '-CHECKIMAGE_TYPE', 'NONE', '-XML_NAME', '/data/curveball/ZTF/2021-07-15/ztf_20210715339282_000386_zg_io.031.psf.xml', '-WRITE_XML', 'Y', '-PHOTFLUX_KEY', 'FLUX_APER(2)', '-VERBOSE_TYPE', 'QUIET', '-PSF_SAMPLING', '0.25', '-PSF_SIZE', '101', '-SAMPLE_FWHMRANGE', '0.5,10.0']' timed out after 299.99995708995266 seconds\n",
      "\n",
      "> WARNING: default.psfex not found, using internal defaults\n",
      "\n",
      "psfex failed with fwhmmax=15.0, bumping it (or quitting)\n",
      "Traceback (most recent call last):\n",
      "  File \"/curveball/bin/processing.py\", line 385, in cat_psf_sky\n",
      "    res = subprocess.run( com.split(), shell=False, timeout=psftimeout )\n",
      "  File \"/usr/lib/python3.9/subprocess.py\", line 507, in run\n",
      "    stdout, stderr = process.communicate(input, timeout=timeout)\n",
      "  File \"/usr/lib/python3.9/subprocess.py\", line 1134, in communicate\n",
      "    stdout, stderr = self._communicate(input, endtime, timeout)\n",
      "  File \"/usr/lib/python3.9/subprocess.py\", line 2007, in _communicate\n",
      "    self.wait(timeout=self._remaining_time(endtime))\n",
      "  File \"/usr/lib/python3.9/subprocess.py\", line 1189, in wait\n",
      "    return self._wait(timeout=timeout)\n",
      "  File \"/usr/lib/python3.9/subprocess.py\", line 1911, in _wait\n",
      "    raise TimeoutExpired(self.args, timeout)\n",
      "subprocess.TimeoutExpired: Command '['psfex', '/data/curveball/ZTF/2021-07-15/ztf_20210715339282_000386_zg_io.031.cat', '-CHECKPLOT_DEV', 'NULL', '-CHECKPLOT_TYPE', 'NONE', '-CHECKIMAGE_TYPE', 'NONE', '-XML_NAME', '/data/curveball/ZTF/2021-07-15/ztf_20210715339282_000386_zg_io.031.psf.xml', '-WRITE_XML', 'Y', '-PHOTFLUX_KEY', 'FLUX_APER(2)', '-VERBOSE_TYPE', 'QUIET', '-PSF_SAMPLING', '0.25', '-PSF_SIZE', '101', '-SAMPLE_FWHMRANGE', '0.5,15.0']' timed out after 299.9999620789895 seconds\n",
      "\n",
      "> WARNING: default.psfex not found, using internal defaults\n",
      "\n",
      "psfex failed with fwhmmax=20.0, bumping it (or quitting)\n",
      "Traceback (most recent call last):\n",
      "  File \"/curveball/bin/processing.py\", line 385, in cat_psf_sky\n",
      "    res = subprocess.run( com.split(), shell=False, timeout=psftimeout )\n",
      "  File \"/usr/lib/python3.9/subprocess.py\", line 507, in run\n",
      "    stdout, stderr = process.communicate(input, timeout=timeout)\n",
      "  File \"/usr/lib/python3.9/subprocess.py\", line 1134, in communicate\n",
      "    stdout, stderr = self._communicate(input, endtime, timeout)\n",
      "  File \"/usr/lib/python3.9/subprocess.py\", line 2007, in _communicate\n",
      "    self.wait(timeout=self._remaining_time(endtime))\n",
      "  File \"/usr/lib/python3.9/subprocess.py\", line 1189, in wait\n",
      "    return self._wait(timeout=timeout)\n",
      "  File \"/usr/lib/python3.9/subprocess.py\", line 1911, in _wait\n",
      "    raise TimeoutExpired(self.args, timeout)\n",
      "subprocess.TimeoutExpired: Command '['psfex', '/data/curveball/ZTF/2021-07-15/ztf_20210715339282_000386_zg_io.031.cat', '-CHECKPLOT_DEV', 'NULL', '-CHECKPLOT_TYPE', 'NONE', '-CHECKIMAGE_TYPE', 'NONE', '-XML_NAME', '/data/curveball/ZTF/2021-07-15/ztf_20210715339282_000386_zg_io.031.psf.xml', '-WRITE_XML', 'Y', '-PHOTFLUX_KEY', 'FLUX_APER(2)', '-VERBOSE_TYPE', 'QUIET', '-PSF_SAMPLING', '0.25', '-PSF_SIZE', '101', '-SAMPLE_FWHMRANGE', '0.5,20.0']' timed out after 299.9999661570182 seconds\n",
      "\n",
      "> WARNING: default.psfex not found, using internal defaults\n",
      "\n",
      "psfex failed with fwhmmax=25.0, bumping it (or quitting)\n",
      "Traceback (most recent call last):\n",
      "  File \"/curveball/bin/processing.py\", line 385, in cat_psf_sky\n",
      "    res = subprocess.run( com.split(), shell=False, timeout=psftimeout )\n",
      "  File \"/usr/lib/python3.9/subprocess.py\", line 507, in run\n",
      "    stdout, stderr = process.communicate(input, timeout=timeout)\n",
      "  File \"/usr/lib/python3.9/subprocess.py\", line 1134, in communicate\n",
      "    stdout, stderr = self._communicate(input, endtime, timeout)\n",
      "  File \"/usr/lib/python3.9/subprocess.py\", line 2007, in _communicate\n",
      "    self.wait(timeout=self._remaining_time(endtime))\n",
      "  File \"/usr/lib/python3.9/subprocess.py\", line 1189, in wait\n",
      "    return self._wait(timeout=timeout)\n",
      "  File \"/usr/lib/python3.9/subprocess.py\", line 1911, in _wait\n",
      "    raise TimeoutExpired(self.args, timeout)\n",
      "subprocess.TimeoutExpired: Command '['psfex', '/data/curveball/ZTF/2021-07-15/ztf_20210715339282_000386_zg_io.031.cat', '-CHECKPLOT_DEV', 'NULL', '-CHECKPLOT_TYPE', 'NONE', '-CHECKIMAGE_TYPE', 'NONE', '-XML_NAME', '/data/curveball/ZTF/2021-07-15/ztf_20210715339282_000386_zg_io.031.psf.xml', '-WRITE_XML', 'Y', '-PHOTFLUX_KEY', 'FLUX_APER(2)', '-VERBOSE_TYPE', 'QUIET', '-PSF_SAMPLING', '0.25', '-PSF_SIZE', '101', '-SAMPLE_FWHMRANGE', '0.5,25.0']' timed out after 299.9999521400314 seconds\n"
     ]
    },
    {
     "name": "stdout",
     "output_type": "stream",
     "text": [
      "ERROR! REFERENCE CANT BE BUILT: ZTF19abiahko\n",
      "45\n",
      "ZTF19abrtjsf\n"
     ]
    },
    {
     "name": "stderr",
     "output_type": "stream",
     "text": [
      "No images found for filter zg\n",
      "No references found for filter zg\n"
     ]
    },
    {
     "name": "stdout",
     "output_type": "stream",
     "text": [
      "ERROR! REFERENCE CANT BE BUILT: ZTF19abrtjsf\n",
      "46\n",
      "ZTF19abtslqm\n",
      "47\n",
      "ZTF19abvbrve\n"
     ]
    },
    {
     "name": "stderr",
     "output_type": "stream",
     "text": [
      "No images found for filter zg\n",
      "No references found for filter zg\n"
     ]
    },
    {
     "name": "stdout",
     "output_type": "stream",
     "text": [
      "ERROR! REFERENCE CANT BE BUILT: ZTF19abvbrve\n",
      "48\n",
      "ZTF19abwamby\n",
      "49\n",
      "ZTF19acbhvgi\n",
      "50\n",
      "ZTF19acbrzzr\n",
      "51\n",
      "ZTF19accbeju\n",
      "52\n",
      "ZTF19acftfav\n",
      "53\n",
      "ZTF19acgbkzr\n",
      "54\n",
      "ZTF19acgzzea\n",
      "55\n",
      "ZTF19acifduk\n",
      "56\n",
      "ZTF19acignlo\n",
      "57\n",
      "ZTF19aclobbu\n",
      "58\n",
      "ZTF20aarbvub\n",
      "59\n",
      "ZTF20abwftit\n",
      "60\n",
      "ZTF20abxmwwd\n",
      "61\n",
      "ZTF21aaagypx\n",
      "62\n",
      "ZTF21aajgdeu\n",
      "63\n",
      "ZTF21acceboj\n",
      "64\n",
      "ZTF21aciobmz\n",
      "65\n",
      "ZTF22aajivyw\n",
      "66\n",
      "ZTF22aapqaqe\n",
      "67\n",
      "ZTF22abhsxph\n",
      "68\n",
      "ZTF19aazudta\n",
      "69\n",
      "ZTF19aaydtur\n",
      "70\n",
      "ZTF18aahfqbc\n",
      "71\n"
     ]
    },
    {
     "ename": "KeyError",
     "evalue": "71",
     "output_type": "error",
     "traceback": [
      "\u001b[0;31m---------------------------------------------------------------------------\u001b[0m",
      "\u001b[0;31mValueError\u001b[0m                                Traceback (most recent call last)",
      "File \u001b[0;32m/usr/local/lib/python3.9/dist-packages/pandas/core/indexes/range.py:345\u001b[0m, in \u001b[0;36mRangeIndex.get_loc\u001b[0;34m(self, key)\u001b[0m\n\u001b[1;32m    344\u001b[0m \u001b[38;5;28;01mtry\u001b[39;00m:\n\u001b[0;32m--> 345\u001b[0m     \u001b[38;5;28;01mreturn\u001b[39;00m \u001b[38;5;28;43mself\u001b[39;49m\u001b[38;5;241;43m.\u001b[39;49m\u001b[43m_range\u001b[49m\u001b[38;5;241;43m.\u001b[39;49m\u001b[43mindex\u001b[49m\u001b[43m(\u001b[49m\u001b[43mnew_key\u001b[49m\u001b[43m)\u001b[49m\n\u001b[1;32m    346\u001b[0m \u001b[38;5;28;01mexcept\u001b[39;00m \u001b[38;5;167;01mValueError\u001b[39;00m \u001b[38;5;28;01mas\u001b[39;00m err:\n",
      "\u001b[0;31mValueError\u001b[0m: 71 is not in range",
      "\nThe above exception was the direct cause of the following exception:\n",
      "\u001b[0;31mKeyError\u001b[0m                                  Traceback (most recent call last)",
      "Cell \u001b[0;32mIn[7], line 5\u001b[0m\n\u001b[1;32m      3\u001b[0m \u001b[38;5;28;01mfor\u001b[39;00m i \u001b[38;5;129;01min\u001b[39;00m \u001b[38;5;28mrange\u001b[39m(\u001b[38;5;241m0\u001b[39m,\u001b[38;5;241m72\u001b[39m):\n\u001b[1;32m      4\u001b[0m     \u001b[38;5;28mprint\u001b[39m(i)\n\u001b[0;32m----> 5\u001b[0m     \u001b[38;5;28mprint\u001b[39m(\u001b[43mSN_name\u001b[49m\u001b[43m[\u001b[49m\u001b[43mi\u001b[49m\u001b[43m]\u001b[49m)\n\u001b[1;32m      6\u001b[0m     \u001b[38;5;28;01mtry\u001b[39;00m:\n\u001b[1;32m      7\u001b[0m         make_reference(expsource, band \u001b[38;5;241m=\u001b[39m SN_green[i], imagelis\u001b[38;5;241m=\u001b[39m\u001b[38;5;28;01mNone\u001b[39;00m, imagefilename\u001b[38;5;241m=\u001b[39m\u001b[38;5;28;01mNone\u001b[39;00m,\n\u001b[1;32m      8\u001b[0m                     secure_references_kwargs\u001b[38;5;241m=\u001b[39m{},\n\u001b[1;32m      9\u001b[0m                     stackname\u001b[38;5;241m=\u001b[39m\u001b[38;5;28;01mNone\u001b[39;00m, obj\u001b[38;5;241m=\u001b[39m SN_name[i], ra\u001b[38;5;241m=\u001b[39m\u001b[38;5;28;01mNone\u001b[39;00m, dec\u001b[38;5;241m=\u001b[39m\u001b[38;5;28;01mNone\u001b[39;00m, peakt\u001b[38;5;241m=\u001b[39m\u001b[38;5;28;01mNone\u001b[39;00m,\n\u001b[1;32m     10\u001b[0m                     datadir\u001b[38;5;241m=\u001b[39m\u001b[38;5;28;01mNone\u001b[39;00m, outdir\u001b[38;5;241m=\u001b[39m\u001b[38;5;28;01mNone\u001b[39;00m, workdir\u001b[38;5;241m=\u001b[39m\u001b[38;5;28;01mNone\u001b[39;00m, searchlocal\u001b[38;5;241m=\u001b[39m\u001b[38;5;28;01mFalse\u001b[39;00m, bgsub\u001b[38;5;241m=\u001b[39m\u001b[38;5;28;01mTrue\u001b[39;00m,\n\u001b[1;32m     11\u001b[0m                     curdb\u001b[38;5;241m=\u001b[39m\u001b[38;5;28;01mNone\u001b[39;00m, logger\u001b[38;5;241m=\u001b[39mlogger)\n",
      "File \u001b[0;32m/usr/local/lib/python3.9/dist-packages/pandas/core/series.py:1007\u001b[0m, in \u001b[0;36mSeries.__getitem__\u001b[0;34m(self, key)\u001b[0m\n\u001b[1;32m   1004\u001b[0m     \u001b[38;5;28;01mreturn\u001b[39;00m \u001b[38;5;28mself\u001b[39m\u001b[38;5;241m.\u001b[39m_values[key]\n\u001b[1;32m   1006\u001b[0m \u001b[38;5;28;01melif\u001b[39;00m key_is_scalar:\n\u001b[0;32m-> 1007\u001b[0m     \u001b[38;5;28;01mreturn\u001b[39;00m \u001b[38;5;28;43mself\u001b[39;49m\u001b[38;5;241;43m.\u001b[39;49m\u001b[43m_get_value\u001b[49m\u001b[43m(\u001b[49m\u001b[43mkey\u001b[49m\u001b[43m)\u001b[49m\n\u001b[1;32m   1009\u001b[0m \u001b[38;5;28;01mif\u001b[39;00m is_hashable(key):\n\u001b[1;32m   1010\u001b[0m     \u001b[38;5;66;03m# Otherwise index.get_value will raise InvalidIndexError\u001b[39;00m\n\u001b[1;32m   1011\u001b[0m     \u001b[38;5;28;01mtry\u001b[39;00m:\n\u001b[1;32m   1012\u001b[0m         \u001b[38;5;66;03m# For labels that don't resolve as scalars like tuples and frozensets\u001b[39;00m\n",
      "File \u001b[0;32m/usr/local/lib/python3.9/dist-packages/pandas/core/series.py:1116\u001b[0m, in \u001b[0;36mSeries._get_value\u001b[0;34m(self, label, takeable)\u001b[0m\n\u001b[1;32m   1113\u001b[0m     \u001b[38;5;28;01mreturn\u001b[39;00m \u001b[38;5;28mself\u001b[39m\u001b[38;5;241m.\u001b[39m_values[label]\n\u001b[1;32m   1115\u001b[0m \u001b[38;5;66;03m# Similar to Index.get_value, but we do not fall back to positional\u001b[39;00m\n\u001b[0;32m-> 1116\u001b[0m loc \u001b[38;5;241m=\u001b[39m \u001b[38;5;28;43mself\u001b[39;49m\u001b[38;5;241;43m.\u001b[39;49m\u001b[43mindex\u001b[49m\u001b[38;5;241;43m.\u001b[39;49m\u001b[43mget_loc\u001b[49m\u001b[43m(\u001b[49m\u001b[43mlabel\u001b[49m\u001b[43m)\u001b[49m\n\u001b[1;32m   1118\u001b[0m \u001b[38;5;28;01mif\u001b[39;00m is_integer(loc):\n\u001b[1;32m   1119\u001b[0m     \u001b[38;5;28;01mreturn\u001b[39;00m \u001b[38;5;28mself\u001b[39m\u001b[38;5;241m.\u001b[39m_values[loc]\n",
      "File \u001b[0;32m/usr/local/lib/python3.9/dist-packages/pandas/core/indexes/range.py:347\u001b[0m, in \u001b[0;36mRangeIndex.get_loc\u001b[0;34m(self, key)\u001b[0m\n\u001b[1;32m    345\u001b[0m         \u001b[38;5;28;01mreturn\u001b[39;00m \u001b[38;5;28mself\u001b[39m\u001b[38;5;241m.\u001b[39m_range\u001b[38;5;241m.\u001b[39mindex(new_key)\n\u001b[1;32m    346\u001b[0m     \u001b[38;5;28;01mexcept\u001b[39;00m \u001b[38;5;167;01mValueError\u001b[39;00m \u001b[38;5;28;01mas\u001b[39;00m err:\n\u001b[0;32m--> 347\u001b[0m         \u001b[38;5;28;01mraise\u001b[39;00m \u001b[38;5;167;01mKeyError\u001b[39;00m(key) \u001b[38;5;28;01mfrom\u001b[39;00m \u001b[38;5;21;01merr\u001b[39;00m\n\u001b[1;32m    348\u001b[0m \u001b[38;5;28;01mif\u001b[39;00m \u001b[38;5;28misinstance\u001b[39m(key, Hashable):\n\u001b[1;32m    349\u001b[0m     \u001b[38;5;28;01mraise\u001b[39;00m \u001b[38;5;167;01mKeyError\u001b[39;00m(key)\n",
      "\u001b[0;31mKeyError\u001b[0m: 71"
     ]
    }
   ],
   "source": [
    "#for running through a group of objects, can be changed to just run for one\n",
    "errorSN = []\n",
    "for i in range(0,72):\n",
    "    print(i)\n",
    "    print(SN_name[i])\n",
    "    try:\n",
    "        make_reference(expsource, band = SN_green[i], imagelis=None, imagefilename=None,\n",
    "                    secure_references_kwargs={},\n",
    "                    stackname=None, obj= SN_name[i], ra=None, dec=None, peakt=None,\n",
    "                    datadir=None, outdir=None, workdir=None, searchlocal=False, bgsub=True,\n",
    "                    curdb=None, logger=logger)\n",
    "    except Exception as err:\n",
    "            print('ERROR! REFERENCE CANT BE BUILT: %s' % SN_name[i])\n",
    "            errorSN.append(SN_name[i])"
   ]
  },
  {
   "cell_type": "code",
   "execution_count": 8,
   "id": "4a7b69a2-d0ea-4fad-899b-85bca87ff21f",
   "metadata": {},
   "outputs": [
    {
     "name": "stdout",
     "output_type": "stream",
     "text": [
      "['ZTF19aauqwna', 'ZTF21aaabwem', 'ZTF19aallimd', 'ZTF19aarykkb', 'ZTF19abiahko', 'ZTF19abrtjsf', 'ZTF19abvbrve']\n"
     ]
    }
   ],
   "source": [
    "print (errorSN)"
   ]
  },
  {
   "cell_type": "code",
   "execution_count": null,
   "id": "8aac6a0c-449a-40ef-909a-b8437575ec41",
   "metadata": {},
   "outputs": [],
   "source": []
  }
 ],
 "metadata": {
  "kernelspec": {
   "display_name": "curveball",
   "language": "python",
   "name": "curveball"
  },
  "language_info": {
   "codemirror_mode": {
    "name": "ipython",
    "version": 3
   },
   "file_extension": ".py",
   "mimetype": "text/x-python",
   "name": "python",
   "nbconvert_exporter": "python",
   "pygments_lexer": "ipython3",
   "version": "3.9.2"
  }
 },
 "nbformat": 4,
 "nbformat_minor": 5
}
